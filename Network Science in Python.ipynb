{
 "cells": [
  {
   "cell_type": "code",
   "execution_count": 1,
   "metadata": {},
   "outputs": [
    {
     "name": "stdout",
     "output_type": "stream",
     "text": [
      "['b', 'c', 'd']\n"
     ]
    }
   ],
   "source": [
    "import networkx as nx \n",
    "g = nx.Graph() \n",
    "g.add_edge('a','b',weight=0.1) \n",
    "g.add_edge('b','c',weight=1.5) \n",
    "g.add_edge('a','c',weight=1.0) \n",
    "g.add_edge('c','d',weight=2.2) \n",
    "print(nx.shortest_path(g,'b','d')) \n",
    "\n"
   ]
  },
  {
   "cell_type": "code",
   "execution_count": 2,
   "metadata": {},
   "outputs": [],
   "source": [
    " g = nx . Graph ()\n",
    " d = nx . DiGraph ()\n",
    " m = nx . MultiGraph ()\n",
    " h = nx . MultiDiGraph ()"
   ]
  },
  {
   "cell_type": "code",
   "execution_count": null,
   "metadata": {},
   "outputs": [],
   "source": [
    " g = nx.Graph ()\n",
    " g . add_node ( 'a ')\n",
    " g . add_nodes_from ( [ ' b ' ,'c ' ,'d ' ])\n",
    " g.add_nodes_from ( ' xyz ')\n",
    " h = nx. path_graph (5)\n",
    " g.add_nodes_from ( h )\n",
    " g.nodes ()\n",
    "\n",
    "# Single edge\n",
    "g.add_edge(1,2)\n",
    "e=(2,3)\n",
    "\n",
    "\n",
    "# List of edges\n",
    "g.add_edges_from([(1 ,2) ,(1 ,3)])\n",
    "\n",
    "# Container of edges\n",
    " g.add_edges_from(h.edges())\n",
    "\n",
    "# In contrast, you can remove any edge of the graph\n",
    " g.remove_edge(1,2)\n",
    "\n",
    "print(g.number_of_nodes())\n",
    "print(g.number_of_edges())\n",
    "\n",
    "print(g.nodes())\n",
    "print(g.edges())\n",
    "\n",
    "for x in g.neighbors(1):\n",
    "    print(x)\n",
    "    \n",
    "print(g.degree(1))\n",
    "\n",
    "for x in g.nodes():\n",
    "    print(x)\n",
    "    \n",
    "for y in g.edges():\n",
    "    print(y)\n",
    "\n"
   ]
  },
  {
   "cell_type": "code",
   "execution_count": 4,
   "metadata": {
    "scrolled": true
   },
   "outputs": [
    {
     "name": "stderr",
     "output_type": "stream",
     "text": [
      "c:\\users\\ad\\appdata\\local\\programs\\python\\python37-32\\lib\\site-packages\\networkx\\drawing\\nx_pylab.py:611: MatplotlibDeprecationWarning: isinstance(..., numbers.Number)\n",
      "  if cb.is_numlike(alpha):\n"
     ]
    }
   ],
   "source": [
    "import pylab as plt\n",
    "import networkx as nx\n",
    "g =nx.erdos_renyi_graph(100,0.15)\n",
    "#nx.draw(g,with_labels=False)\n",
    "nx.draw_circular(g)\n",
    "plt.savefig(\"graph.png\")"
   ]
  },
  {
   "cell_type": "code",
   "execution_count": 5,
   "metadata": {},
   "outputs": [
    {
     "data": {
      "image/png": "[encoded data removed]",
      "text/plain": [
       "<Figure size 432x288 with 1 Axes>"
      ]
     },
     "metadata": {},
     "output_type": "display_data"
    }
   ],
   "source": [
    "import networkx as nx\n",
    "import pylab as plt\n",
    "#Complete Graph\n",
    "c = nx . complete_graph (5) \n",
    "#nx.draw(c)\n",
    "\n",
    "# classic graphs\n",
    "K_5=nx.complete_graph(5)\n",
    "#nx.draw(K_5)\n",
    "\n",
    "K_3_5=nx.complete_bipartite_graph(3,5)\n",
    "#nx.draw(K_3_5)\n",
    "\n",
    "lollipop=nx.lollipop_graph(10,20)\n",
    "nx.draw(lollipop)\n",
    "\n",
    "# random graphs\n",
    "er=nx.erdos_renyi_graph(100,0.15)\n",
    "#nx.draw(er)\n",
    "\n",
    "ws=nx.watts_strogatz_graph(30,3,0.1)\n",
    "#nx.draw(ws)\n",
    "\n",
    "ba=nx.barabasi_albert_graph(100,5)\n",
    "#nx.draw(ba)\n",
    "\n",
    "\n"
   ]
  },
  {
   "cell_type": "code",
   "execution_count": null,
   "metadata": {},
   "outputs": [],
   "source": []
  }
 ],
 "metadata": {
  "kernelspec": {
   "display_name": "Python 3",
   "language": "python",
   "name": "python3"
  },
  "language_info": {
   "codemirror_mode": {
    "name": "ipython",
    "version": 3
   },
   "file_extension": ".py",
   "mimetype": "text/x-python",
   "name": "python",
   "nbconvert_exporter": "python",
   "pygments_lexer": "ipython3",
   "version": "3.7.0"
  }
 },
 "nbformat": 4,
 "nbformat_minor": 2
}
